{
 "cells": [
  {
   "cell_type": "code",
   "execution_count": null,
   "id": "a45d9bc8",
   "metadata": {},
   "outputs": [
    {
     "name": "stderr",
     "output_type": "stream",
     "text": [
      "C:\\Users\\ASUS\\AppData\\Local\\Temp\\ipykernel_22576\\2925073278.py:43: FutureWarning: You are using `torch.load` with `weights_only=False` (the current default value), which uses the default pickle module implicitly. It is possible to construct malicious pickle data which will execute arbitrary code during unpickling (See https://github.com/pytorch/pytorch/blob/main/SECURITY.md#untrusted-models for more details). In a future release, the default value for `weights_only` will be flipped to `True`. This limits the functions that could be executed during unpickling. Arbitrary objects will no longer be allowed to be loaded via this mode unless they are explicitly allowlisted by the user via `torch.serialization.add_safe_globals`. We recommend you start setting `weights_only=True` for any use case where you don't have full control of the loaded file. Please open an issue on GitHub for any issues related to this experimental feature.\n",
      "  loaded_net.load_state_dict(torch.load(PATH))\n"
     ]
    },
    {
     "name": "stdout",
     "output_type": "stream",
     "text": [
      "Model loaded successfully from disk and moved to GPU.\n",
      "Test data loaded.\n",
      "Accuracy of the LOADED model: 88.02 %\n"
     ]
    }
   ],
   "source": [
    "#demonstrates how someone can take saved model and use it without retraining.\n",
    "import torch\n",
    "import torch.nn as nn\n",
    "import torch.nn.functional as F\n",
    "import torchvision\n",
    "import torchvision.transforms as transforms\n",
    "\n",
    "#  STEP 1: RE-DEFINE THE MODEL ARCHITECTURE\n",
    "class Net(nn.Module):\n",
    "    def __init__(self):\n",
    "        super(Net, self).__init__()\n",
    "        self.conv_stack = nn.Sequential(\n",
    "            nn.Conv2d(1, 6, 5),\n",
    "            nn.ReLU(),\n",
    "            nn.MaxPool2d(2, 2),\n",
    "            nn.Conv2d(6, 16, 5),\n",
    "            nn.ReLU(),\n",
    "            nn.MaxPool2d(2, 2)\n",
    "        )\n",
    "        \n",
    "        self.classifier = nn.Sequential(\n",
    "            nn.Linear(16 * 4 * 4, 120),\n",
    "            nn.ReLU(),\n",
    "            nn.Linear(120, 84),\n",
    "            nn.ReLU(),\n",
    "            nn.Linear(84, 10) \n",
    "        )\n",
    "\n",
    "    def forward(self, x):\n",
    "        x = self.conv_stack(x)\n",
    "        x = torch.flatten(x, 1) # Flatten all dimensions except batch\n",
    "        x = self.classifier(x)\n",
    "        return x\n",
    "\n",
    "#  STEP 2: DEFINE VARIABLES & LOAD MODEL\n",
    "device = torch.device('cuda:0' if torch.cuda.is_available() else 'cpu')\n",
    "PATH = './my_cnn_model.pth'\n",
    "\n",
    "loaded_net = Net()\n",
    "loaded_net.load_state_dict(torch.load(PATH, weights_only=True))\n",
    "loaded_net.to(device)\n",
    "\n",
    "print(\"Model loaded successfully from disk and moved to GPU.\")\n",
    "\n",
    "#  STEP 3: LOAD TEST DATA (New Part)\n",
    "transform = transforms.Compose(\n",
    "    [transforms.ToTensor(),\n",
    "     transforms.Normalize((0.5,), (0.5,))])\n",
    "\n",
    "testset = torchvision.datasets.FashionMNIST(root='./data', train=False,\n",
    "                                       download=True, transform=transform)\n",
    "testloader = torch.utils.data.DataLoader(testset, batch_size=64,\n",
    "                                         shuffle=False)\n",
    "\n",
    "print(\"Test data loaded.\")\n",
    "\n",
    "#  STEP 4: VERIFY THE LOADED MODEL'S ACCURACY (New Part)\n",
    "correct = 0\n",
    "total = 0\n",
    "\n",
    "# Set model to evaluation mode (disables dropout, etc.)\n",
    "loaded_net.eval()\n",
    "\n",
    "with torch.no_grad(): # We don't need to calculate gradients\n",
    "    for data in testloader:\n",
    "        images, labels = data[0].to(device), data[1].to(device)\n",
    "        \n",
    "        outputs = loaded_net(images)\n",
    "        \n",
    "        _, predicted = torch.max(outputs.data, 1)\n",
    "        total += labels.size(0)\n",
    "        correct += (predicted == labels).sum().item()\n",
    "\n",
    "accuracy = 100 * correct / total\n",
    "print(f'Accuracy of the LOADED model: {accuracy:.2f} %')"
   ]
  }
 ],
 "metadata": {
  "kernelspec": {
   "display_name": "venv (3.11.9)",
   "language": "python",
   "name": "python3"
  },
  "language_info": {
   "codemirror_mode": {
    "name": "ipython",
    "version": 3
   },
   "file_extension": ".py",
   "mimetype": "text/x-python",
   "name": "python",
   "nbconvert_exporter": "python",
   "pygments_lexer": "ipython3",
   "version": "3.11.9"
  }
 },
 "nbformat": 4,
 "nbformat_minor": 5
}
